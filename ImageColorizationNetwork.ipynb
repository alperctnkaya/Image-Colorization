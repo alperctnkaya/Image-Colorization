{
  "cells": [
    {
      "cell_type": "code",
      "execution_count": null,
      "metadata": {
        "id": "3F8HdTRVRV6i"
      },
      "outputs": [],
      "source": [
        "!nvidia-smi"
      ]
    },
    {
      "cell_type": "code",
      "execution_count": null,
      "metadata": {
        "id": "N2SjwDeuRvGh"
      },
      "outputs": [],
      "source": [
        "from google.colab import drive"
      ]
    },
    {
      "cell_type": "code",
      "execution_count": null,
      "metadata": {
        "id": "65V0WEMZTZSu"
      },
      "outputs": [],
      "source": [
        "from torch.utils.data import Dataset, DataLoader\n",
        "from torchvision.transforms import Compose\n",
        "import torchvision\n",
        "import torch\n",
        "import torch.nn as nn\n",
        "import torch.nn.functional as F\n",
        "from torchvision.transforms import functional\n",
        "import torchvision.datasets as datasets\n",
        "import torch.optim as optim\n",
        "from torch import Tensor, flatten\n",
        "import torchvision.transforms as transforms\n",
        "import torchvision.models as models\n",
        "from skimage.color import rgb2lab, lab2rgb\n",
        "from torchvision.io import read_image"
      ]
    },
    {
      "cell_type": "code",
      "execution_count": null,
      "metadata": {
        "id": "1dWmblp2IT-y"
      },
      "outputs": [],
      "source": [
        "import numpy as np\n",
        "import pandas as pd \n",
        "import glob\n",
        "import os\n",
        "import ntpath\n",
        "from PIL import Image\n",
        "import nltk\n",
        "import io"
      ]
    },
    {
      "cell_type": "code",
      "execution_count": null,
      "metadata": {
        "id": "F5ENEso_mNIc"
      },
      "outputs": [],
      "source": [
        "import matplotlib.pyplot as plt"
      ]
    },
    {
      "cell_type": "code",
      "execution_count": null,
      "metadata": {
        "id": "799XZgw-bt1d"
      },
      "outputs": [],
      "source": [
        "drive.mount(\"my-drive\")"
      ]
    },
    {
      "cell_type": "code",
      "execution_count": null,
      "metadata": {
        "id": "aP5PRPci8yLD"
      },
      "outputs": [],
      "source": [
        "!wget https://github.com/jbrownlee/Datasets/releases/download/Flickr8k/Flickr8k_Dataset.zip "
      ]
    },
    {
      "cell_type": "code",
      "execution_count": null,
      "metadata": {
        "id": "G875dOXTISMl"
      },
      "outputs": [],
      "source": [
        "!wget https://github.com/jbrownlee/Datasets/releases/download/Flickr8k/Flickr8k_text.zip"
      ]
    },
    {
      "cell_type": "code",
      "execution_count": null,
      "metadata": {
        "id": "UJ7S-pw9IUpQ"
      },
      "outputs": [],
      "source": [
        "!unzip /content/Flickr8k_text.zip  -d /media/"
      ]
    },
    {
      "cell_type": "code",
      "execution_count": null,
      "metadata": {
        "id": "k-cmm587SYF2"
      },
      "outputs": [],
      "source": [
        "!unzip /content/Flickr8k_Dataset.zip  -d /media/"
      ]
    },
    {
      "cell_type": "code",
      "execution_count": null,
      "metadata": {
        "id": "SQui1Ci2SWQU"
      },
      "outputs": [],
      "source": [
        "device = torch.device(\"cuda\" if torch.cuda.is_available() else \"cpu\")"
      ]
    },
    {
      "cell_type": "code",
      "execution_count": null,
      "metadata": {
        "id": "aj6jjbQj_9F4"
      },
      "outputs": [],
      "source": [
        "class Flickr8kDataset(Dataset):\n",
        "    \"\"\"\n",
        "    FlickrDataset\n",
        "    \"\"\"\n",
        "    def __init__(self,root_dir, dist = \"train\", transformations=None):\n",
        "        self.root_dir = root_dir\n",
        "        \n",
        "        self.transformations = transformations\n",
        "        \n",
        "        #Get image and caption colum from the dataframe\n",
        "        self.imgs = pd.read_csv(root_dir + \"/Flickr_8k.trainImages.txt\", header = None)\n",
        "        \n",
        "        \n",
        "        #Initialize vocabulary and build vocab\n",
        "    \n",
        "    def __len__(self):\n",
        "        return len(self.imgs)\n",
        "    \n",
        "    def __getitem__(self,idx):\n",
        "        \n",
        "        img_name = self.imgs[0][idx]\n",
        "        img_location = os.path.join(self.root_dir+\"/Flicker8k_Dataset\",img_name)\n",
        "        img = Image.open(img_location).convert(\"RGB\")\n",
        "        \n",
        "        #apply the transfromation to the image\n",
        "        if self.transformations is not None:\n",
        "            img = self.transformations(img)\n",
        "        \n",
        "        return img"
      ]
    },
    {
      "cell_type": "code",
      "execution_count": null,
      "metadata": {
        "id": "GQKhjwIuedlz"
      },
      "outputs": [],
      "source": [
        "class rgb2lab_t(object):\n",
        "  def __init__(self):\n",
        "    pass\n",
        "    \n",
        "  def __call__(self, tensor):\n",
        "    return torch.tensor(rgb2lab(tensor.permute(1,2,0))).permute(2,0,1)\n",
        "    \n",
        "  def __repr__(self):\n",
        "    return self.__class__.__name__ + '(mean={0}, std={1})'.format(self.mean, self.std)"
      ]
    },
    {
      "cell_type": "code",
      "execution_count": null,
      "metadata": {
        "id": "Lf2rtuoPU1TJ"
      },
      "outputs": [],
      "source": [
        "train_transformations = transforms.Compose(\n",
        "    [transforms.Resize((256,256)),\n",
        "     transforms.ToTensor(),\n",
        "     rgb2lab_t(),\n",
        "     transforms.Normalize((0.5, 0.5, 0.5), (0.5, 0.5, 0.5))])\n",
        "\n",
        "batch_size = 32\n",
        "\n",
        "train_set = Flickr8kDataset(root_dir=\"/media\", dist='train')\n",
        "\n",
        "train_set.transformations = train_transformations\n",
        "\n",
        "train_loader = DataLoader(train_set, batch_size=batch_size, shuffle=True, sampler=None, pin_memory=False)\n"
      ]
    },
    {
      "cell_type": "code",
      "execution_count": null,
      "metadata": {
        "id": "ecE1UbGfJUp7"
      },
      "outputs": [],
      "source": [
        "class ColorizationNet(nn.Module):\n",
        "  def __init__(self, input_size=128):\n",
        "    super(ColorizationNet, self).__init__()\n",
        "\n",
        "    MIDLEVEL_FEATURE_SIZE = 128\n",
        "    \n",
        "    resnet = models.resnet18(num_classes=365) \n",
        "    resnet2 = models.resnet18(num_classes=365) \n",
        "    resnet3 = models.resnet18(num_classes=365) \n",
        "    resnet4 = models.resnet18(num_classes=365)\n",
        "    \n",
        "\n",
        "    # Change first conv layer to accept single-channel (grayscale) input\n",
        "    resnet.conv1.weight = nn.Parameter(resnet.conv1.weight.sum(dim=1).unsqueeze(1))\n",
        "    resnet2.conv1.weight = nn.Parameter(resnet.conv1.weight.sum(dim=1).unsqueeze(1))\n",
        "    resnet3.conv1.weight = nn.Parameter(resnet.conv1.weight.sum(dim=1).unsqueeze(1))\n",
        "    \n",
        "    resnet4.conv1 = nn.Conv2d(2, 64, kernel_size=7, stride=2, padding=3,bias=False)\n",
        "    \n",
        "    resnet2.layer1[0].conv1.kernel_size = (5,5)\n",
        "    resnet2.layer1[0].conv2.kernel_size = (5,5)\n",
        "    resnet2.layer1[1].conv1.kernel_size = (5,5)\n",
        "    resnet2.layer1[1].conv2.kernel_size = (5,5)\n",
        "    resnet2.layer2[0].conv1.kernel_size = (5,5)\n",
        "    resnet2.layer2[0].conv2.kernel_size = (5,5)\n",
        "    resnet2.layer2[1].conv1.kernel_size = (5,5)\n",
        "    resnet2.layer2[1].conv2.kernel_size = (5,5)\n",
        "    resnet2.layer3[0].conv1.kernel_size = (5,5)\n",
        "    resnet2.layer3[0].conv2.kernel_size = (5,5)\n",
        "    resnet2.layer3[1].conv1.kernel_size = (5,5)\n",
        "    resnet2.layer3[1].conv2.kernel_size = (5,5)\n",
        "    resnet2.layer4[0].conv1.kernel_size = (5,5)\n",
        "    resnet2.layer4[0].conv2.kernel_size = (5,5)\n",
        "    resnet2.layer4[1].conv1.kernel_size = (5,5)\n",
        "    resnet2.layer4[1].conv2.kernel_size = (5,5)\n",
        "\n",
        "    resnet3.layer1[0].conv1.kernel_size = (7,7)\n",
        "    resnet3.layer1[0].conv2.kernel_size = (7,7)\n",
        "    resnet3.layer1[1].conv1.kernel_size = (7,7)\n",
        "    resnet3.layer1[1].conv2.kernel_size = (7,7)\n",
        "    resnet3.layer2[0].conv1.kernel_size = (7,7)\n",
        "    resnet3.layer2[0].conv2.kernel_size = (7,7)\n",
        "    resnet3.layer2[1].conv1.kernel_size = (7,7)\n",
        "    resnet3.layer2[1].conv2.kernel_size = (7,7)\n",
        "    resnet3.layer3[0].conv1.kernel_size = (7,7)\n",
        "    resnet3.layer3[0].conv2.kernel_size = (7,7)\n",
        "    resnet3.layer3[1].conv1.kernel_size = (7,7)\n",
        "    resnet3.layer3[1].conv2.kernel_size = (7,7)\n",
        "    resnet3.layer4[0].conv1.kernel_size = (7,7)\n",
        "    resnet3.layer4[0].conv2.kernel_size = (7,7)\n",
        "    resnet3.layer4[1].conv1.kernel_size = (7,7)\n",
        "    resnet3.layer4[1].conv2.kernel_size = (7,7)\n",
        "    \n",
        "    # Extract midlevel features from ResNet-gray\n",
        "    self.midlevel_resnet = nn.Sequential(*list(resnet.children())[0:6])\n",
        "    self.midlevel_resnet2 = nn.Sequential(*list(resnet2.children())[0:6])\n",
        "    self.midlevel_resnet3 = nn.Sequential(*list(resnet3.children())[0:6])\n",
        "    self.midlevel_resnet4 = nn.Sequential(*list(resnet4.children())[0:6])\n",
        "\n",
        "    \n",
        "\n",
        "    self.upsample = nn.Sequential(     \n",
        "      nn.Conv2d(MIDLEVEL_FEATURE_SIZE, 128, kernel_size=3, stride=1, padding=1),\n",
        "      nn.BatchNorm2d(128),\n",
        "      nn.ReLU(),\n",
        "      nn.Upsample(scale_factor=2),\n",
        "      nn.Conv2d(128, 64, kernel_size=3, stride=1, padding=1),\n",
        "      nn.BatchNorm2d(64),\n",
        "      nn.ReLU(),\n",
        "      nn.Conv2d(64, 64, kernel_size=3, stride=1, padding=1),\n",
        "      nn.BatchNorm2d(64),\n",
        "      nn.ReLU(),\n",
        "      nn.Upsample(scale_factor=2),\n",
        "      nn.Conv2d(64, 32, kernel_size=3, stride=1, padding=1),\n",
        "      nn.BatchNorm2d(32),\n",
        "      nn.ReLU(),\n",
        "      nn.Upsample(scale_factor=2),\n",
        "      nn.Conv2d(32, 2, kernel_size=3, stride=1, padding=1)\n",
        "\n",
        "    )\n",
        "\n",
        "  def forward(self, input):\n",
        "\n",
        "    # Pass input through ResNet-gray to extract features\n",
        "    midlevel_features = self.midlevel_resnet(input) + self.midlevel_resnet2(input) + self.midlevel_resnet3(input)\n",
        "    \n",
        "    output = self.upsample(midlevel_features)\n",
        "    \n",
        "    midlevel_features2 = self.midlevel_resnet4(output)\n",
        "    # Upsample to get colors\n",
        "    output = self.upsample(midlevel_features2 + midlevel_features)\n",
        "    return output"
      ]
    },
    {
      "cell_type": "code",
      "execution_count": null,
      "metadata": {
        "id": "ohLQwMrzOEWs"
      },
      "outputs": [],
      "source": [
        "def train(network, epochs, optimizer, criterion, train_loader):\n",
        "    \n",
        "    for epoch in range(epochs):  # loop over the dataset multiple times\n",
        "\n",
        "        running_loss = 0.0\n",
        "        epoch_loss = 0.0\n",
        "        for i, data in enumerate(train_loader, 0):\n",
        "            \n",
        "            # get the inputs; data is a list of [inputs, labels]\n",
        "            inputs  = data[:,0:1,:,:].to(device)\n",
        "            outputs = data[:,1:3,:,:].to(device)\n",
        "\n",
        "            #outputs = outputs.to(device)\n",
        "            #outputs = outputs[:,1:3,:,:]\n",
        "            \n",
        "            \n",
        "            # zero the parameter gradients\n",
        "            optimizer.zero_grad()\n",
        "\n",
        "            # forward + backward + optimize\n",
        "            colorized = network(inputs)\n",
        "            \n",
        "            loss = criterion(colorized, outputs)\n",
        "            \n",
        "            loss.backward()\n",
        "            optimizer.step()\n",
        "\n",
        "            # print statistics\n",
        "            running_loss += loss.item()\n",
        "            epoch_loss += loss.item()\n",
        "\n",
        "            if i % 10 == 9:    # print every 200 mini-batches\n",
        "                print(f'[{epoch + 1}, {i + 1:5d}] loss: {running_loss / 200:.6f}')\n",
        "                running_loss = 0.0\n",
        "\n",
        "        epoch_loss /= len(train_loader)\n",
        "        print('Train Epoch: {} \\tTrain Loss: {:.6f}'.format(epoch, epoch_loss))\n",
        "\n"
      ]
    },
    {
      "cell_type": "code",
      "execution_count": null,
      "metadata": {
        "id": "i_ZgCB8HJplx"
      },
      "outputs": [],
      "source": [
        "model = ColorizationNet().to(device)"
      ]
    },
    {
      "cell_type": "code",
      "execution_count": null,
      "metadata": {
        "id": "MpjxVDVNgmmN"
      },
      "outputs": [],
      "source": [
        "model.load_state_dict(torch.load('/content/my-drive/MyDrive/ImageColorization/models/model250.pth')[\"model_state_dict\"])"
      ]
    },
    {
      "cell_type": "code",
      "execution_count": null,
      "metadata": {
        "id": "gDDlalJROIj3"
      },
      "outputs": [],
      "source": [
        "lr = 0.02\n",
        "optimizer = optim.Adam(model.parameters(), lr=lr)\n",
        "criterion = nn.MSELoss()"
      ]
    },
    {
      "cell_type": "code",
      "source": [
        "train(model.to(device), 10, optimizer, criterion, train_loader)"
      ],
      "metadata": {
        "id": "Rae5px_Jatys"
      },
      "execution_count": null,
      "outputs": []
    },
    {
      "cell_type": "code",
      "execution_count": null,
      "metadata": {
        "id": "vV3i_KQwH8R4"
      },
      "outputs": [],
      "source": [
        "for i in range(0,26):\n",
        "  train(model.to(device), 10, optimizer, criterion, train_loader)\n",
        "  torch.save({\n",
        "            'epoch': i*10,\n",
        "            'model_state_dict': model.state_dict(),\n",
        "            'optimizer_state_dict': optimizer.state_dict(),\n",
        "            'loss': 700.926795\n",
        "            \n",
        "            }, \"/content/my-drive/MyDrive/ImageColorization/models/model\"+str(i*10) + \".pth\")"
      ]
    },
    {
      "cell_type": "code",
      "execution_count": null,
      "metadata": {
        "id": "PR0YJPb_S7zT"
      },
      "outputs": [],
      "source": [
        "for i, data in enumerate(train_loader,0):\n",
        "  break\n"
      ]
    },
    {
      "cell_type": "code",
      "execution_count": null,
      "metadata": {
        "id": "xEFNo8aGxaOV"
      },
      "outputs": [],
      "source": [
        "outputs = data\n",
        "outputs = outputs.to(device)\n",
        "\n",
        "inputs = transforms.Grayscale()(outputs)"
      ]
    },
    {
      "cell_type": "code",
      "execution_count": null,
      "metadata": {
        "id": "giOKSnvexuSk"
      },
      "outputs": [],
      "source": [
        "res1 = model(data[:,0:1,:,:].to(device))"
      ]
    },
    {
      "cell_type": "code",
      "execution_count": null,
      "metadata": {
        "id": "-TFQDL1TouVu"
      },
      "outputs": [],
      "source": [
        "x = 18"
      ]
    },
    {
      "cell_type": "code",
      "execution_count": null,
      "metadata": {
        "id": "gytlnbNxo8pd"
      },
      "outputs": [],
      "source": [
        "plt.imshow(lab2rgb(data[x].permute(1,2,0).detach().numpy()))"
      ]
    },
    {
      "cell_type": "code",
      "execution_count": null,
      "metadata": {
        "id": "5AEZh01HhB4Z"
      },
      "outputs": [],
      "source": [
        "plt.imshow(lab2rgb(torch.cat((data[x][0:1,:,:], res1[x].cpu()) , dim = 0).permute(1,2,0).detach().numpy()))"
      ]
    }
  ],
  "metadata": {
    "accelerator": "GPU",
    "colab": {
      "provenance": []
    },
    "gpuClass": "standard",
    "kernelspec": {
      "display_name": "Python 3",
      "name": "python3"
    },
    "language_info": {
      "name": "python"
    }
  },
  "nbformat": 4,
  "nbformat_minor": 0
}